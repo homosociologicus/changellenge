{
 "cells": [
  {
   "cell_type": "markdown",
   "metadata": {},
   "source": [
    "# Данные\n",
    "#### [Our World in Data website](https://ourworldindata.org/coronavirus-source-data)\n",
    "#### [Our World in Data GitHub](https://github.com/owid/covid-19-data/tree/master/public/data/)"
   ]
  },
  {
   "cell_type": "markdown",
   "metadata": {},
   "source": [
    "Вопрос европейского заказчика (dummy, но запрос валидный и вполне расплывчатый, чтобы сойти за настоящий):\n",
    "\n",
    "***На какой рынок сейчас стоит выходить, если рассматривать ситуацию с COVID-19?***"
   ]
  },
  {
   "cell_type": "markdown",
   "metadata": {},
   "source": [
    "Что нужно понять:\n",
    "- Откуда брать данные\n",
    "- Какие инструменты использовать\n",
    "- Какие метрики хочет видеть заказчик\n",
    "- Какой ответ на вопрос и/или на уточненный вопрос"
   ]
  },
  {
   "cell_type": "code",
   "execution_count": null,
   "metadata": {},
   "outputs": [],
   "source": [
    "import numpy as np\n",
    "import pandas as pd\n",
    "import matplotlib.pyplot as plt\n",
    "import seaborn as sns\n",
    "\n",
    "from google.colab import files\n",
    "\n",
    "\n",
    "pd.set_option('display.max_rows', 500)\n",
    "pd.set_option('display.max_columns', 100)\n",
    "\n",
    "plt.style.use('ggplot')\n",
    "# sns.set_theme(style='darkgrid')\n",
    "\n",
    "%matplotlib inline\n",
    "%config InlineBackend.figure_format = 'svg'"
   ]
  },
  {
   "cell_type": "markdown",
   "metadata": {},
   "source": [
    "# Подгрузим данные"
   ]
  },
  {
   "cell_type": "code",
   "execution_count": null,
   "metadata": {},
   "outputs": [],
   "source": [
    "df = pd.read_csv(\n",
    "    \"https://covid.ourworldindata.org/data/owid-covid-data.csv\",\n",
    "    parse_dates=['date'],\n",
    "    low_memory=False,\n",
    ")\n",
    "df['date'] = df['date'].dt.date"
   ]
  },
  {
   "cell_type": "markdown",
   "metadata": {},
   "source": [
    "# Ознакомимся с датасетом "
   ]
  },
  {
   "cell_type": "code",
   "execution_count": null,
   "metadata": {},
   "outputs": [],
   "source": [
    "df.info()"
   ]
  },
  {
   "cell_type": "code",
   "execution_count": null,
   "metadata": {},
   "outputs": [],
   "source": [
    "df.head(15)"
   ]
  },
  {
   "cell_type": "markdown",
   "metadata": {},
   "source": [
    "# Посмотрим на то, что нас интересует"
   ]
  },
  {
   "cell_type": "code",
   "execution_count": null,
   "metadata": {},
   "outputs": [],
   "source": [
    "df['continent'].unique()"
   ]
  },
  {
   "cell_type": "code",
   "execution_count": null,
   "metadata": {},
   "outputs": [],
   "source": [
    "df['location'].unique()"
   ]
  },
  {
   "cell_type": "markdown",
   "metadata": {},
   "source": [
    "# Выберем то, что интересует"
   ]
  },
  {
   "cell_type": "code",
   "execution_count": null,
   "metadata": {},
   "outputs": [],
   "source": [
    "europe = df[df['continent'] == 'Europe']"
   ]
  },
  {
   "cell_type": "markdown",
   "metadata": {},
   "source": [
    "# Попробуем выделить наиболее значимые и простые столбцы / агрегаты\n",
    "Можно использовать популярные методы `pandas.DataFrame`:\n",
    "- `.groupby()`\n",
    "- `.isna()`\n",
    "- `.sum()`\n",
    "- `.mean()`"
   ]
  },
  {
   "cell_type": "code",
   "execution_count": null,
   "metadata": {},
   "outputs": [],
   "source": [
    "# посмотрите, сколько пропусков по столбцам для Европы\n",
    "europe.isna().sum()"
   ]
  },
  {
   "cell_type": "code",
   "execution_count": null,
   "metadata": {},
   "outputs": [],
   "source": [
    "# посмотрите, сколько в среднем новых заболевших в Европе в апреле\n",
    "(\n",
    "    europe\n",
    "    [europe.date >= pd.to_datetime('2022-04-01').date()]\n",
    "    .groupby('location')\n",
    "    ['new_cases']\n",
    "    .mean()\n",
    "    .sort_values()\n",
    ")"
   ]
  },
  {
   "cell_type": "code",
   "execution_count": null,
   "metadata": {},
   "outputs": [],
   "source": [
    "# extra\n",
    "# посмотрите, какой средний процент от населения составляют все случаи в апреле\n",
    "gb = (\n",
    "    europe\n",
    "    [europe.date >= pd.to_datetime('2022-04-01').date()]\n",
    "    .groupby('location')\n",
    ")\n",
    "gb.apply(lambda d: (d.total_cases / d.population * 100).mean())"
   ]
  },
  {
   "cell_type": "markdown",
   "metadata": {},
   "source": [
    "# Построим наиболее значимые и очевидные метрики"
   ]
  },
  {
   "cell_type": "code",
   "execution_count": null,
   "metadata": {},
   "outputs": [],
   "source": [
    "# всего случаев\n",
    "sns.lineplot(\n",
    "    x='date',\n",
    "    y='total_cases',\n",
    "    data=europe,\n",
    "    ci=None,\n",
    ")"
   ]
  },
  {
   "cell_type": "code",
   "execution_count": null,
   "metadata": {},
   "outputs": [],
   "source": [
    "# новых случаев\n",
    "sns.lineplot(\n",
    "    x='date',\n",
    "    y='new_cases',\n",
    "    data=europe,\n",
    "    ci=None,\n",
    ")"
   ]
  },
  {
   "cell_type": "code",
   "execution_count": null,
   "metadata": {},
   "outputs": [],
   "source": [
    "# всего смертей\n",
    "sns.lineplot(\n",
    "    x='date',\n",
    "    y='total_deaths',\n",
    "    data=europe,\n",
    "    ci=None,\n",
    ")"
   ]
  },
  {
   "cell_type": "code",
   "execution_count": null,
   "metadata": {},
   "outputs": [],
   "source": [
    "# новых смертей\n",
    "sns.lineplot(\n",
    "    x='date',\n",
    "    y='new_deaths',\n",
    "    data=europe,\n",
    "    ci=None,\n",
    ")"
   ]
  },
  {
   "cell_type": "markdown",
   "metadata": {},
   "source": [
    "# Что не так с этими графиками?\n",
    "- умная мысль 1\n",
    "- умная мысль 2\n",
    "- гениальное заключение 3"
   ]
  },
  {
   "cell_type": "markdown",
   "metadata": {},
   "source": [
    "## А теперь давайте попробуем построить график, который уже и показывать не слишком стыдно"
   ]
  },
  {
   "cell_type": "code",
   "execution_count": null,
   "metadata": {},
   "outputs": [],
   "source": [
    "country = 'Russia'\n",
    "country_df = df[df['location'] == country]"
   ]
  },
  {
   "cell_type": "code",
   "execution_count": null,
   "metadata": {
    "scrolled": true
   },
   "outputs": [],
   "source": [
    "# plotting country_df\n",
    "fig, (ax0, ax1) = plt.subplots(2, 1, figsize=(8, 14))\n",
    "ax0.set_title(f'Cases and deaths of COVID-19 in {country} by date', y=1.05)\n",
    "ax1.set_xlabel('Date')\n",
    "red, blue = plt.cm.RdBu([0.01, 0.99])\n",
    "\n",
    "# total cases\n",
    "ax0.plot(country_df.date, country_df.total_cases, color=blue)\n",
    "plt.setp(ax0.get_xticklabels(), rotation=45)\n",
    "\n",
    "# new cases\n",
    "ax2 = ax0.twinx()\n",
    "ax2.plot(country_df.date, country_df.new_cases, color=red)\n",
    "ax2.grid(None)\n",
    "\n",
    "# total deaths\n",
    "ax1.plot(country_df.date, country_df.total_deaths, color=blue)\n",
    "plt.setp(ax1.get_xticklabels(), rotation=45)\n",
    "\n",
    "# new deaths\n",
    "ax3 = ax1.twinx()\n",
    "ax3.plot(country_df.date, country_df.new_deaths, color=red)\n",
    "ax3.grid(None)\n",
    "\n",
    "# prettifying plots\n",
    "for ax, ylabel, color in zip([ax0, ax1, ax2, ax3],\n",
    "                                ['Total cases',\n",
    "                                'Total deaths',\n",
    "                                'New cases',\n",
    "                                'New deaths'],\n",
    "                                [blue, blue, red, red]):\n",
    "    ax.set_ylabel(ylabel, color=color)\n",
    "    ax.tick_params('y', colors=color)\n",
    "    ax.set_ylim(0)\n",
    "    ax.set_yticks(np.linspace(*ax.get_ybound(), 10))\n",
    "\n",
    "plt.show(block=False)"
   ]
  },
  {
   "cell_type": "markdown",
   "metadata": {},
   "source": [
    "# А что, если построить рядом сразу несколько стран?\n",
    "Без проблем!"
   ]
  },
  {
   "cell_type": "code",
   "execution_count": null,
   "metadata": {},
   "outputs": [],
   "source": [
    "countries = (\n",
    "    'Russia',\n",
    "    'United States',\n",
    "    'United Kingdom',\n",
    "    'Sweden',\n",
    ")"
   ]
  },
  {
   "cell_type": "code",
   "execution_count": null,
   "metadata": {
    "scrolled": true
   },
   "outputs": [],
   "source": [
    "fig, (ax0, ax1) = plt.subplots(2, 1, figsize=(13, 13))\n",
    "ax0.set_title(f'Cases and deaths of COVID-19 in {country} by date', y=1.05)\n",
    "\n",
    "sns.lineplot(\n",
    "    x='date',\n",
    "    y='total_cases',\n",
    "    data=df[df['location'].isin(countries)],\n",
    "    hue='location',\n",
    "    ax=ax0,\n",
    ")\n",
    "ax0.set_ylabel('Total cases')\n",
    "ax0.set_xlabel('')\n",
    "\n",
    "sns.lineplot(\n",
    "    x='date',\n",
    "    y='new_cases',\n",
    "    data=df[df['location'].isin(countries)],\n",
    "    hue='location',\n",
    "    ax=ax1,\n",
    ")\n",
    "ax1.set_ylabel('Total cases')\n",
    "ax1.set_xlabel('Date');"
   ]
  },
  {
   "cell_type": "markdown",
   "metadata": {},
   "source": [
    "# Давайте выгрузим часть данных для заказчика"
   ]
  },
  {
   "cell_type": "code",
   "execution_count": null,
   "metadata": {},
   "outputs": [],
   "source": [
    "europe.columns"
   ]
  },
  {
   "cell_type": "code",
   "execution_count": null,
   "metadata": {},
   "outputs": [],
   "source": [
    "cols = [\n",
    "    'location',\n",
    "    'date',\n",
    "    'total_cases',\n",
    "    'new_cases',\n",
    "    'total_deaths',\n",
    "    'new_deaths',\n",
    "    'total_tests',\n",
    "    'new_tests',\n",
    "    'total_vaccinations',\n",
    "    'people_vaccinated',\n",
    "    'people_fully_vaccinated',\n",
    "    'population',\n",
    "    'median_age',\n",
    "    'aged_65_older',\n",
    "]\n",
    "europe[europe.date >= pd.to_datetime('2022-01-01').date()].to_excel('covid.xlsx', index=False)\n",
    "europe[europe.date >= pd.to_datetime('2022-01-01').date()].to_csv('covid.csv', index=False)\n",
    "\n",
    "files.download('covid.xlsx')\n",
    "files.download('covid.csv')"
   ]
  }
 ],
 "metadata": {
  "interpreter": {
   "hash": "b89b5cfaba6639976dc87ff2fec6d58faec662063367e2c229c520fe71072417"
  },
  "kernelspec": {
   "display_name": "Python 3 (ipykernel)",
   "language": "python",
   "name": "python3"
  },
  "language_info": {
   "codemirror_mode": {
    "name": "ipython",
    "version": 3
   },
   "file_extension": ".py",
   "mimetype": "text/x-python",
   "name": "python",
   "nbconvert_exporter": "python",
   "pygments_lexer": "ipython3",
   "version": "3.10.1"
  }
 },
 "nbformat": 4,
 "nbformat_minor": 4
}
