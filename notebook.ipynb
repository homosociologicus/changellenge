{
 "cells": [
  {
   "attachments": {},
   "cell_type": "markdown",
   "metadata": {},
   "source": [
    "![Rick and My Job](https://raw.githubusercontent.com/homosociologicus/changellenge/master/images/rick_and_my_job.jpg)"
   ]
  },
  {
   "cell_type": "markdown",
   "metadata": {},
   "source": [
    "# Упражнение 1: if elif else"
   ]
  },
  {
   "cell_type": "markdown",
   "metadata": {},
   "source": [
    "Год является високосным, если:\n",
    "- он делится на 4 и не делится на 100 или\n",
    "- он делится на 400\n",
    "\n",
    "Ввод: целое число >= 0\n",
    "\n",
    "Вывод: `YES` если високосный, иначе `NO`\n",
    "\n",
    "Пример:\n",
    "\n",
    "`2020\n",
    "YES`"
   ]
  },
  {
   "cell_type": "code",
   "execution_count": null,
   "metadata": {},
   "outputs": [],
   "source": [
    "A = int(input())\n",
    "if A % 4 == 0 and A % 100 != 0 or A % 400 == 0:\n",
    "    print('YES')\n",
    "else:\n",
    "    print('NO')"
   ]
  },
  {
   "cell_type": "markdown",
   "metadata": {},
   "source": [
    "Выведите максимальное число из 3 заданных (не используйте функцию, это скучно)\n",
    "\n",
    "Ввод: 3 целых числа\n",
    "\n",
    "Вывод: максимальное число\n",
    "\n",
    "Пример:\n",
    "\n",
    "`1\n",
    "2\n",
    "3\n",
    "3`"
   ]
  },
  {
   "cell_type": "code",
   "execution_count": null,
   "metadata": {},
   "outputs": [],
   "source": []
  },
  {
   "attachments": {},
   "cell_type": "markdown",
   "metadata": {},
   "source": [
    "Бонусное упражнение\n",
    "\n",
    "![Coordinates](https://raw.githubusercontent.com/homosociologicus/changellenge/master/images/coordinates.png)\n",
    "\n",
    "Ввод: 4 ненулевых числа: x1, y1, x2, y2\n",
    "\n",
    "Вывод: `YES` если они в одной четверти, иначе `NO`\n",
    "\n",
    "Пример:\n",
    "\n",
    "`1\n",
    "-3\n",
    "2\n",
    "2\n",
    "NO`\n",
    "\n",
    "Подсказка: попробуйте понять, что объединяет точки в одной четверти и как это можно записать"
   ]
  },
  {
   "cell_type": "code",
   "execution_count": null,
   "metadata": {},
   "outputs": [],
   "source": []
  },
  {
   "cell_type": "markdown",
   "metadata": {},
   "source": [
    "# Упражнение 2: циклы for, while"
   ]
  },
  {
   "cell_type": "markdown",
   "metadata": {},
   "source": [
    "Сумма последовательности\n",
    "\n",
    "Ввод: случайные ненулевые целые числа, 0 заканчивает последовательность\n",
    "\n",
    "Вывод: число, равное сумме последовательности\n",
    "\n",
    "Пример:\n",
    "\n",
    "`1\n",
    "2\n",
    "3\n",
    "4\n",
    "5\n",
    "6\n",
    "7\n",
    "8\n",
    "9\n",
    "10\n",
    "0\n",
    "55`"
   ]
  },
  {
   "cell_type": "code",
   "execution_count": null,
   "metadata": {},
   "outputs": [],
   "source": []
  },
  {
   "cell_type": "markdown",
   "metadata": {},
   "source": [
    "Старые добрые числа Фибоначчи. \"Нулевое\" число 0, первое 1, второе 1, далее 2, 3, 5, 8, 13, 21, ...\n",
    "\n",
    "Ввод: номер числа Фибоначчи >= 1\n",
    "\n",
    "Вывод: соответствующее число Фибоначчи\n",
    "\n",
    "Пример:\n",
    "\n",
    "`8\n",
    "21`"
   ]
  },
  {
   "cell_type": "code",
   "execution_count": null,
   "metadata": {},
   "outputs": [],
   "source": []
  },
  {
   "cell_type": "markdown",
   "metadata": {},
   "source": [
    "Снова делимость. Для каждого числа последовательности выведите ближайшее снизу число, делящееся на 9. Если само число делится на 9, выведите его. Считать последовательность на вводе можно с помощью\n",
    "\n",
    "`my_list = list(map(int, input().split()))`\n",
    "\n",
    "и, кстати, `list` здесь не нужен (если знаете почему, то это здорово!)\n",
    "\n",
    "Ввод: последовательность целых чисел, разделенных пробелами\n",
    "\n",
    "Вывод: последовательность чисел, каждое из которых на новой строке\n",
    "\n",
    "Пример:\n",
    "\n",
    "`1 10 21 28 36 44\n",
    "0\n",
    "9\n",
    "18\n",
    "27\n",
    "36\n",
    "36`"
   ]
  },
  {
   "cell_type": "code",
   "execution_count": null,
   "metadata": {},
   "outputs": [],
   "source": []
  },
  {
   "attachments": {},
   "cell_type": "markdown",
   "metadata": {},
   "source": [
    "# <center> Настала пора сразиться с реальной задачей </center>\n",
    "\n",
    "![How to Code Fast](https://raw.githubusercontent.com/homosociologicus/changellenge/master/images/how_to_code_fast.jpg)"
   ]
  },
  {
   "cell_type": "markdown",
   "metadata": {},
   "source": [
    "# <center> Основные концепты: Business Question и Business Value </center>\n",
    "Представьте, что к вам приходит заказчик - decision maker, будь то департамент или отдельный человек,\n",
    "и дает (если повезет, иногда ведь вообще ничего не дадут), хм, скажем культурно - некрасивые данные,\n",
    "а потом говорит:\n",
    "\n",
    "\"Дайте какие-нибудь интересные инсайты насчет того, какую энергию нам стоит использовать.\n",
    "Мы хотим презентовать себя на рынке как экологичную компанию\"\n",
    "\n",
    "Что делать? Как не довести ситуацию до второго главного вопроса: кто виноват?"
   ]
  },
  {
   "cell_type": "markdown",
   "metadata": {},
   "source": [
    "### Источники данных: [Our World in Data: Energy](https://github.com/owid/energy-data) & [Our World in Data: CO₂ and Greenhouse Gas Emissions](https://github.com/owid/co2-data)\n",
    "### Описание данных: [Energy](https://github.com/owid/energy-data/blob/master/owid-energy-codebook.csv) & [GHG](https://github.com/owid/co2-data/blob/master/owid-co2-codebook.csv)"
   ]
  },
  {
   "cell_type": "markdown",
   "metadata": {},
   "source": [
    "### Заметки\n",
    "https://ourworldindata.org/energy\n",
    "\n",
    "https://ourworldindata.org/co2-and-other-greenhouse-gas-emissions\n",
    "- ископаемое топливо - уголь, нефть и газ (coal, oil, and gas)\n",
    "- PEC, primary energy consumption - первичное потребление энергии\n",
    "- GHG, greenhouse gases - парниковые газы"
   ]
  },
  {
   "cell_type": "markdown",
   "metadata": {},
   "source": [
    "## Импорты и настройка графиков"
   ]
  },
  {
   "cell_type": "code",
   "execution_count": null,
   "metadata": {},
   "outputs": [],
   "source": [
    "# если у вас не установлены эти библиотеки, прогоните эту ячейку\n",
    "!pip3 install --user --upgrade numpy pandas matplotlib seaborn tqdm"
   ]
  },
  {
   "cell_type": "code",
   "execution_count": null,
   "metadata": {},
   "outputs": [],
   "source": [
    "import pandas as pd\n",
    "import matplotlib.pyplot as plt\n",
    "import seaborn as sns\n",
    "\n",
    "# полезная библиотека для отслеживания прогресса с итераторами\n",
    "from tqdm import tqdm\n",
    "\n",
    "\n",
    "# векторные изображения более четко рендерятся\n",
    "%config InlineBackend.figure_format = 'svg'\n",
    "# никогда не используйте дефолтный стиль в plt, вы убьете себе глаза\n",
    "plt.style.use('ggplot')"
   ]
  },
  {
   "cell_type": "code",
   "execution_count": null,
   "metadata": {},
   "outputs": [],
   "source": [
    "# как работает tqdm\n",
    "for _ in tqdm(range(10000000)):\n",
    "    _ = 100"
   ]
  },
  {
   "cell_type": "markdown",
   "metadata": {},
   "source": [
    "## Данные\n",
    "... ибо нам нужны аргументы для ответа бизнесу"
   ]
  },
  {
   "cell_type": "code",
   "execution_count": null,
   "metadata": {},
   "outputs": [],
   "source": [
    "energy_data = pd.read_csv('https://raw.githubusercontent.com/owid/energy-data/master/owid-energy-data.csv')\n",
    "ghg_data = pd.read_csv('https://raw.githubusercontent.com/owid/co2-data/master/owid-co2-data.csv')"
   ]
  },
  {
   "cell_type": "markdown",
   "metadata": {},
   "source": [
    "## EDA - Exploratory Data Analysis\n",
    "... знай своего друга, своего врага и данные, которые в тебя бросили"
   ]
  },
  {
   "cell_type": "markdown",
   "metadata": {},
   "source": [
    "Датасеты относительно ежедневных задач большие, давайте поглядим на них. Используйте методы `info(), head(), tail()` и, при необходимости, атрибут `columns`. Кстати, ввиду однородности столбцов с точки зрения naming conventions, есть смысл отсортировать названия столбцов перед выводом, если вдруг решите с ними ознакомиться"
   ]
  },
  {
   "cell_type": "code",
   "execution_count": null,
   "metadata": {},
   "outputs": [],
   "source": []
  },
  {
   "cell_type": "code",
   "execution_count": null,
   "metadata": {},
   "outputs": [],
   "source": []
  },
  {
   "cell_type": "markdown",
   "metadata": {},
   "source": [
    "- Давайте возьмем данные с 2000 по наст. время: приведем столбцы `year` в обоих датасетах к типу datetime и возьмем данные с 2000 года\n",
    "- Давайте исследовать глобальные тренды: выберите данные для всего мира\n",
    "- Есть ли в датасетах первичный ключ? Если да, то почему бы не использовать его вместо бессмысленного номера строки?\n",
    "\n",
    "Вам помогут: `pd.to_datetime(), df.set_index()`"
   ]
  },
  {
   "cell_type": "code",
   "execution_count": null,
   "metadata": {},
   "outputs": [],
   "source": []
  },
  {
   "cell_type": "markdown",
   "metadata": {},
   "source": [
    "### EDA для мировых данных\n",
    "Теперь, когда мы выделили основные массивы, давайте посмотрим на то, что из себя представляют PEC и GHG. Проверьте на пропуски с помощью метода `isna()` и нужного агрегирующего метода. Видите столбец исключительно с пропусками? С большей частью? Есть ли в нем польза?\n",
    "\n",
    "Орудие - метод `dropna()`"
   ]
  },
  {
   "cell_type": "code",
   "execution_count": null,
   "metadata": {},
   "outputs": [],
   "source": []
  },
  {
   "cell_type": "markdown",
   "metadata": {},
   "source": [
    "### Наблюдения\n",
    "- раз\n",
    "- два\n",
    "- три\n",
    "\n",
    "\n",
    "### Выбор данных\n",
    "Много колонок => много переменных => много линий / других объектов на картинке => нечитаемые графики => никакой пользы\n",
    "- Выберем наиболее важные фичи в PEC, которые отражают потребление и долю в PEC\n",
    "- Аналогично выберем важные столбцы, касающиеся CO₂ and GHG (заметили, что во втором датасете нет столбцов share?)\n",
    "\n",
    "Подсказка: благодаря авторам датасетов в названиях стоблцов видны подстроки, которые показывают принадлежность к смысловой группе"
   ]
  },
  {
   "cell_type": "code",
   "execution_count": null,
   "metadata": {},
   "outputs": [],
   "source": []
  },
  {
   "cell_type": "code",
   "execution_count": null,
   "metadata": {},
   "outputs": [],
   "source": []
  },
  {
   "cell_type": "markdown",
   "metadata": {},
   "source": [
    "### Новые фичи\n",
    "Видно, что в датасете PEC есть столбцы share, показывающие долю от всего PEC. Почему бы не создать такую же красоту в датасете GHG?"
   ]
  },
  {
   "cell_type": "code",
   "execution_count": null,
   "metadata": {},
   "outputs": [],
   "source": [
    "# только для главных столбцов, без per capita, total GHG and % growth\n",
    "ghg_share_cols = []\n",
    "for col in ghg.columns[:len(ghg_cols) - 2]:\n",
    "    share_col = "
   ]
  },
  {
   "cell_type": "markdown",
   "metadata": {},
   "source": [
    "# Аллилуйя, графики!"
   ]
  },
  {
   "cell_type": "markdown",
   "metadata": {},
   "source": [
    "### График 1: World PEC, GHG, and CO₂\n",
    "Давайте построим агрегаты для всего мира:"
   ]
  },
  {
   "cell_type": "code",
   "execution_count": null,
   "metadata": {
    "scrolled": false
   },
   "outputs": [],
   "source": [
    "fig, (ax0, ax1) = plt.subplots(2, sharex=True, figsize=(9, 8))\n",
    "\n",
    "# world energy consumption\n",
    "sns.lineplot(x=pec.index,\n",
    "             y=pec.primary_energy_consumption,\n",
    "             ax=ax0,\n",
    "             color='black',\n",
    "             marker='X',\n",
    "             label='world PEC')\n",
    "\n",
    "# world ghg\n",
    "\n",
    "\n",
    "# world co2\n",
    "\n",
    "\n",
    "# setting labels and legend\n",
    "ax0.set_title('GHG Emissions and PEC in the World', x=0.45, y=1.05)\n",
    "ax0.set_ylabel('energy consumption, TWh')\n",
    "ax0.legend(loc='upper left')\n",
    "ax1.set_ylabel('emissions, mln tonnes')\n",
    "ax1.legend(loc='upper left')\n",
    "\n",
    "# fig.savefig('graph_1.png', dpi=600)\n",
    "plt.show()"
   ]
  },
  {
   "cell_type": "markdown",
   "metadata": {},
   "source": [
    "### Наблюдения\n",
    "- мысль 1\n",
    "- мысль 2\n",
    "- мысль 3"
   ]
  },
  {
   "cell_type": "markdown",
   "metadata": {},
   "source": [
    "### График 2: World PEC by Source\n",
    "Посмотрим на распределение потребления энергии в разбивке на источники:"
   ]
  },
  {
   "cell_type": "code",
   "execution_count": null,
   "metadata": {},
   "outputs": [],
   "source": [
    "# по аналогии с предыдущим заданием настройте график\n",
    "\n",
    "# только долевые столбцы\n",
    "sns.lineplot(data=pec[pec_share_cols],\n",
    "             palette='Paired',\n",
    "             marker='o',\n",
    "             dashes=None)\n",
    "\n",
    "# не забудьте лейблы\n",
    "\n",
    "# plt.savefig('graph_2.png', dpi=600)\n"
   ]
  },
  {
   "cell_type": "markdown",
   "metadata": {},
   "source": [
    "Есть ли лучшие варианты показать распределение долей? Какие типы графиков подходят для этого?"
   ]
  },
  {
   "cell_type": "code",
   "execution_count": null,
   "metadata": {},
   "outputs": [],
   "source": []
  },
  {
   "cell_type": "markdown",
   "metadata": {},
   "source": [
    "### Наблюдения\n",
    "- раз\n",
    "- два\n",
    "- три"
   ]
  },
  {
   "cell_type": "markdown",
   "metadata": {},
   "source": [
    "### График 3: World GHG Emissions by Source"
   ]
  },
  {
   "cell_type": "code",
   "execution_count": null,
   "metadata": {},
   "outputs": [],
   "source": [
    "# только долевые столбцы\n",
    "\n",
    "# не забудьте лейблы\n"
   ]
  },
  {
   "cell_type": "markdown",
   "metadata": {},
   "source": [
    "### Наблюдения\n",
    "- уно\n",
    "- дос\n",
    "- трес"
   ]
  },
  {
   "cell_type": "markdown",
   "metadata": {},
   "source": [
    "### График 4: Changes in World PEC Sources and CO₂\n",
    "Посмотрим на изменения в PEC и выбросах CO₂:"
   ]
  },
  {
   "cell_type": "code",
   "execution_count": null,
   "metadata": {},
   "outputs": [],
   "source": [
    "fig, ax = plt.subplots()\n",
    "\n",
    "# как всегда, не забудьте лейблы\n"
   ]
  },
  {
   "cell_type": "markdown",
   "metadata": {},
   "source": [
    "### Observations\n",
    "- ан\n",
    "- дё\n",
    "- труа"
   ]
  },
  {
   "cell_type": "markdown",
   "metadata": {},
   "source": [
    "### График 5: World PEC per Capita by Source"
   ]
  },
  {
   "cell_type": "code",
   "execution_count": 1,
   "metadata": {},
   "outputs": [],
   "source": [
    "# очевидно, только столбцы <что-то> на человека\n",
    "\n",
    "# подписи хотят, чтобы вы их сделали\n"
   ]
  },
  {
   "cell_type": "markdown",
   "metadata": {},
   "source": [
    "### Наблюдения\n",
    "- если что, можно писать не 3 вывода"
   ]
  },
  {
   "cell_type": "markdown",
   "metadata": {},
   "source": [
    "### График 6: GHG Emissions per Capita"
   ]
  },
  {
   "cell_type": "code",
   "execution_count": null,
   "metadata": {},
   "outputs": [],
   "source": []
  },
  {
   "cell_type": "markdown",
   "metadata": {},
   "source": [
    "### Наблюдения\n",
    "- умный вывод"
   ]
  },
  {
   "cell_type": "markdown",
   "metadata": {},
   "source": [
    "### График 7: Correlation Matrix between PEC and GHG Emissions\n",
    "Сложный процесс, поэтому разобьем по шагам:\n",
    "1. Вертикально соединяем таблицы с ключами\n",
    "2. Подсчитали корреляцию\n",
    "3. Выбрали корреляцию между столбцами двух матриц"
   ]
  },
  {
   "cell_type": "code",
   "execution_count": null,
   "metadata": {},
   "outputs": [],
   "source": [
    "fig, ax = plt.subplots(figsize=(15, 10))\n",
    "\n",
    "sns.heatmap(\n",
    "    pd.concat(\n",
    "        [pec, ghg],\n",
    "        axis=1,\n",
    "        keys=['pec', 'ghg']).corr().loc['pec', 'ghg'],\n",
    "    vmin=-1,\n",
    "    vmax=1,\n",
    "    annot=True,\n",
    "    fmt='.2f',\n",
    "    cmap='vlag',\n",
    "    ax=ax\n",
    ")\n",
    "plt.title('Correlation between PEC and GHG Emissions in the World', x=0.45)\n",
    "\n",
    "plt.show()"
   ]
  },
  {
   "cell_type": "markdown",
   "metadata": {},
   "source": [
    "## Observations\n",
    "Тут может быть очень много наблюдений, но вспомните бизнес вопрос и выделите только самые важные"
   ]
  },
  {
   "cell_type": "markdown",
   "metadata": {},
   "source": [
    "## Выводы и ответ на бизнес вопрос"
   ]
  }
 ],
 "metadata": {
  "kernelspec": {
   "display_name": "Python 3.8.1 64-bit",
   "language": "python",
   "name": "python38164bit4edd3680f1b04c5489cd1c2045ec8111"
  },
  "language_info": {
   "codemirror_mode": {
    "name": "ipython",
    "version": 3
   },
   "file_extension": ".py",
   "mimetype": "text/x-python",
   "name": "python",
   "nbconvert_exporter": "python",
   "pygments_lexer": "ipython3",
   "version": "3.8.1"
  }
 },
 "nbformat": 4,
 "nbformat_minor": 4
}
